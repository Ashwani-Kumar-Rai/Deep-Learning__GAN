{
  "cells": [
    {
      "cell_type": "code",
      "execution_count": 31,
      "metadata": {},
      "outputs": [],
      "source": [
        "# Gradient Descent and Linear Regression with PyTorch"
      ]
    },
    {
      "cell_type": "code",
      "execution_count": 32,
      "metadata": {
        "id": "0HC9tEqEnel1"
      },
      "outputs": [],
      "source": [
        "# Uncomment and run the appropriate command for your operating system, if required\n",
        "\n",
        "# Linux / Binder\n",
        "# !pip install numpy torch==1.7.0+cpu torchvision==0.8.1+cpu torchaudio==0.7.0 -f https://download.pytorch.org/whl/torch_stable.html\n",
        "\n",
        "# Windows\n",
        "# !pip install numpy torch==1.7.0+cpu torchvision==0.8.1+cpu torchaudio==0.7.0 -f https://download.pytorch.org/whl/torch_stable.html\n",
        "\n",
        "# MacOS\n",
        "# !pip install numpy torch torchvision torchaudio"
      ]
    },
    {
      "attachments": {},
      "cell_type": "markdown",
      "metadata": {
        "id": "tdBeDfTsnel2"
      },
      "source": [
        "## Introduction to Linear Regression\n",
        "\n",
        "In this tutorial, we'll discuss one of the foundational algorithms in machine learning: *Linear regression*. We'll create a model that predicts crop yields for apples and oranges (*target variables*) by looking at the average temperature, rainfall, and humidity (*input variables or features*) in a region. Here's the training data:\n",
        "\n",
        "![linear-regression-training-data](https://i.imgur.com/6Ujttb4.png)\n",
        "\n",
        "In a linear regression model, each target variable is estimated to be a weighted sum of the input variables, offset by some constant, known as a bias :\n",
        "\n",
        "SEE THIS FORMULAE YE EK MATRIX FORM KRRE HAI , YE 2 ROWS HAI ,AUR 3 COLUMNS HAI \n",
        "AGAR B1 B2 KO ALAG SE DEKHE TO YE EK VECTOR FORM KRTA HUA DIKHAYE DEGA \n",
        "```\n",
        "yield_apple  = w11 * temp + w12 * rainfall + w13 * humidity + b1\n",
        "yield_orange = w21 * temp + w22 * rainfall + w23 * humidity + b2\n",
        "```\n",
        "\n",
        "Visually, it means that the yield of apples is a linear or planar function of temperature, rainfall and humidity:\n",
        "\n",
        "![linear-regression-graph](https://i.imgur.com/4DJ9f8X.png)"
      ]
    },
    {
      "cell_type": "markdown",
      "metadata": {
        "id": "afoXvx_gnel3"
      },
      "source": [
        "The *learning* part of linear regression is to figure out a set of weights `w11, w12,... w23, b1 & b2` using the training data, to make accurate predictions for new data. The _learned_ weights will be used to predict the yields for apples and oranges in a new region using the average temperature, rainfall, and humidity for that region. \n",
        "\n",
        "We'll _train_ our model by adjusting the weights slightly many times to make better predictions, using an optimization technique called *gradient descent*. Let's begin by importing Numpy and PyTorch."
      ]
    },
    {
      "cell_type": "code",
      "execution_count": 33,
      "metadata": {
        "id": "mUtBPrECnel4"
      },
      "outputs": [],
      "source": [
        "import numpy as np\n",
        "import torch"
      ]
    },
    {
      "cell_type": "markdown",
      "metadata": {
        "id": "CiivcRjLnel5"
      },
      "source": [
        "## Training data\n",
        "\n",
        "We can represent the training data using two matrices: `inputs` and `targets`, each with one row per observation, and one column per variable."
      ]
    },
    {
      "cell_type": "code",
      "execution_count": 34,
      "metadata": {},
      "outputs": [],
      "source": [
        "# Model means (function or program)"
      ]
    },
    {
      "cell_type": "code",
      "execution_count": 35,
      "metadata": {
        "id": "-DoOniEjnel7"
      },
      "outputs": [],
      "source": [
        "# Jab [temperature,rainfaill,humidity] change hota hai ,tab apple or oranges k yield bhe change hoti hai\n",
        "# Is relationship ko hum model me implement krna chahte hai\n",
        "# Agar is relationship ko hum capture krle kisi model k andar ,tab hum us model ko use krsakte hai new regions\n",
        "    #-me prediction krne k liye .\n",
        "\n",
        "# Application of this model : iske hisab se hum capacity planning kr sakte hai ,\n",
        "    #-kaha kya kab lagana chahie uske hisab se hum optimizations kr sakte hai \n",
        "    #-efficient business decisions le sakte hai \n",
        "\n",
        "# Linear regression me hum ye man k chalte hai ki ye sab factors aur inke results a linear combination hain .\n",
        "\n",
        "# Isme hum ye mante hai  ki har ek jo target variable hai ,wo weighted sum hai (temp,rainfall,humidity ka)\n",
        "\n",
        "\n",
        "# kisi situation me agar temperature ,humidity ,rainfall sab zero bhe hojaye to bhe crop zero nhi hota\n",
        "    #-isliye hum ek constant rakhte use krte hai \n",
        "\n",
        "# apple k liye alag constants honge ,orange k liye alag constants honge \n",
        "\n",
        "\n",
        "# Input (temp, rainfall, humidity)\n",
        "inputs = np.array([[73, 67, 43], \n",
        "                   [91, 88, 64], \n",
        "                   [87, 134, 58], \n",
        "                   [102, 43, 37], \n",
        "                   [69, 96, 70]], dtype='float32')"
      ]
    },
    {
      "cell_type": "code",
      "execution_count": 36,
      "metadata": {},
      "outputs": [],
      "source": [
        "# THis means jo yield of apples hai ,wo ek linear aur plainer function temperature ,rainfall and humidity ka\n",
        "# [see image above]so agar hum yield of apples ko plot krenge sirf (temperature and rainfall ) k hisab se\n",
        "    #-coz agar hum humidity dikha denge to hume 4th dimension ki zarurat padegi ,yield dikhane k liye .\n",
        "    #- abhi k liye hum humidity ko ignore kr sakte hai \n",
        "\n",
        "# Rainfall hogi to crop aache hoge ,zada rainfall pr crop kharab bhe hojayegi \n",
        "    #-Isliye ye sirf ek model hai , ye koi actual law nhi hai .\n",
        "    #- isse certain range of values me use kr sakte hain "
      ]
    },
    {
      "cell_type": "code",
      "execution_count": 37,
      "metadata": {},
      "outputs": [],
      "source": [
        "# Learning part in linear regression :\n",
        "\n",
        "# Learning part me hame figureout krna hai ek aacha set of weights\n",
        "  \n",
        "# yield_apple  = w11 * temp + w12 * rainfall + w13 * humidity + b1\n",
        "    #- iss equation me humne likh to diya hai but hame pata nhi hai ki aache weights kya hai \n",
        "    #- hamme janna hai ki aache set of weights kya honge \n",
        "\n",
        "# Hum training data k inputs and outputs ko use krke aache weights nikalenge \n",
        "    #-aur un weights ko use krke hum new data pr predictions krenge(jaha ki hame sirf temperature ,rainfall,humidity)\n",
        "    #- pata hai. \n",
        "\n",
        "# ye hum kaise krenge , iske liye hum pehle kuch random weight se start krenge ,\n",
        "    #- phir hum thoda thoda weights change krenge thoda thoda aache predictions krne k liye \n",
        "    #- step by step hum better predictions krte jayenge \n",
        "\n",
        "# hum ek algorithm/technique apply krenge weights ko improve krne k liye called(gradient descent )\n",
        "    #- aur wo krte krte hamare weight improve hote chale jayenge \n",
        "\n",
        "# hum apne training data ko 2 matrices ki tarah represent kr sakte hai , \n",
        "    #- ek the hamare input variables  ek column hai ,5 regions k data point k liye 5 rows hai \n"
      ]
    },
    {
      "cell_type": "code",
      "execution_count": 38,
      "metadata": {
        "id": "ddXlbVSanel8"
      },
      "outputs": [],
      "source": [
        "# Targets (apples, oranges)\n",
        "targets = np.array([[56, 70], \n",
        "                    [81, 101], \n",
        "                    [119, 133], \n",
        "                    [22, 37], \n",
        "                    [103, 119]], dtype='float32')\n",
        "\n",
        "# NOTE : Hame mostly floating point number use krna chahie , \n",
        "    #-ek tarika hai ki matrix me .dal do \n",
        "    #- 2nd tareka ,specify explicitly numpy array me ,dtype='float32' ,ki aapko kis datatype ka data chahie \n",
        "\n",
        "# Targets means hamare input data k outputs     "
      ]
    },
    {
      "cell_type": "markdown",
      "metadata": {
        "id": "ovzcMZ91nel9"
      },
      "source": [
        "We've separated the input and target variables because we'll operate on them separately. Also, we've created numpy arrays, because this is typically how you would work with training data: read some CSV files as numpy arrays, do some processing, and then convert them to PyTorch tensors.\n",
        "\n",
        "Let's convert the arrays to PyTorch tensors."
      ]
    },
    {
      "cell_type": "code",
      "execution_count": 39,
      "metadata": {
        "id": "qa6rSlFynel-",
        "outputId": "fc676684-321d-4775-bec5-4048e9adcb3f"
      },
      "outputs": [
        {
          "name": "stdout",
          "output_type": "stream",
          "text": [
            "tensor([[ 73.,  67.,  43.],\n",
            "        [ 91.,  88.,  64.],\n",
            "        [ 87., 134.,  58.],\n",
            "        [102.,  43.,  37.],\n",
            "        [ 69.,  96.,  70.]])\n",
            "tensor([[ 56.,  70.],\n",
            "        [ 81., 101.],\n",
            "        [119., 133.],\n",
            "        [ 22.,  37.],\n",
            "        [103., 119.]])\n"
          ]
        }
      ],
      "source": [
        "# Convert inputs and targets to tensors ie [convert numpy array to pytorch tensors]\n",
        "inputs = torch.from_numpy(inputs) \n",
        "targets = torch.from_numpy(targets)\n",
        "print(inputs)\n",
        "print(targets)"
      ]
    },
    {
      "cell_type": "markdown",
      "metadata": {
        "id": "BYSjC3mcnel_"
      },
      "source": [
        "## Linear regression model from scratch\n",
        "\n",
        "The weights and biases (`w11, w12,... w23, b1 & b2`) can also be represented as matrices, initialized as random values. The first row of `w` and the first element of `b` are used to predict the first target variable, i.e., yield of apples, and similarly, the second for oranges."
      ]
    },
    {
      "cell_type": "code",
      "execution_count": 40,
      "metadata": {
        "id": "e_Q56LCJnel_",
        "outputId": "378b70d0-2863-415e-d28e-40ed77493eef"
      },
      "outputs": [
        {
          "name": "stdout",
          "output_type": "stream",
          "text": [
            "tensor([[ 0.9141, -0.1542, -0.8167],\n",
            "        [ 0.1032, -0.6356,  2.0342]], requires_grad=True)\n",
            "tensor([-2.2624, -0.1949], requires_grad=True)\n"
          ]
        }
      ],
      "source": [
        "# AB hame model banana hai , hame model k liye 2 chize chahie ,weights and biases \n",
        "\n",
        "# Weights and biases\n",
        "\n",
        "\n",
        "w = torch.randn(2, 3, requires_grad=True) # ye matrix create hota hai random number ka (2,3) ye shape hai \n",
        "# y ka derivative w.grad me store ho jayega \n",
        "b = torch.randn(2, requires_grad=True)\n",
        "print(w) # weights\n",
        "print(b) # biases \n",
        "# inhe random gausian destribution me se pick kiya jata hai (bell curve )(in -1 to 1 range )"
      ]
    },
    {
      "cell_type": "markdown",
      "metadata": {
        "id": "4v8BjEzPnemA"
      },
      "source": [
        "`torch.randn` creates a tensor with the given shape, with elements picked randomly from a [normal distribution](https://en.wikipedia.org/wiki/Normal_distribution) with mean 0 and standard deviation 1.\n",
        "\n",
        "Our *model* is simply a function that performs a matrix multiplication of the `inputs` and the weights `w` (transposed) and adds the bias `b` (replicated for each observation).\n",
        "\n",
        "![matrix-mult](https://i.imgur.com/WGXLFvA.png)\n",
        "\n",
        "We can define the model as follows:"
      ]
    },
    {
      "cell_type": "code",
      "execution_count": 41,
      "metadata": {},
      "outputs": [
        {
          "data": {
            "text/plain": [
              "tensor([[ 0.9141, -0.1542, -0.8167],\n",
              "        [ 0.1032, -0.6356,  2.0342]], requires_grad=True)"
            ]
          },
          "execution_count": 41,
          "metadata": {},
          "output_type": "execute_result"
        }
      ],
      "source": [
        "w"
      ]
    },
    {
      "cell_type": "code",
      "execution_count": 42,
      "metadata": {},
      "outputs": [
        {
          "data": {
            "text/plain": [
              "tensor([[ 73.,  67.,  43.],\n",
              "        [ 91.,  88.,  64.],\n",
              "        [ 87., 134.,  58.],\n",
              "        [102.,  43.,  37.],\n",
              "        [ 69.,  96.,  70.]])"
            ]
          },
          "execution_count": 42,
          "metadata": {},
          "output_type": "execute_result"
        }
      ],
      "source": [
        "inputs\n"
      ]
    },
    {
      "cell_type": "code",
      "execution_count": 43,
      "metadata": {},
      "outputs": [
        {
          "data": {
            "text/plain": [
              "tensor([[ 56.,  70.],\n",
              "        [ 81., 101.],\n",
              "        [119., 133.],\n",
              "        [ 22.,  37.],\n",
              "        [103., 119.]])"
            ]
          },
          "execution_count": 43,
          "metadata": {},
          "output_type": "execute_result"
        }
      ],
      "source": [
        "targets"
      ]
    },
    {
      "cell_type": "code",
      "execution_count": 44,
      "metadata": {},
      "outputs": [
        {
          "data": {
            "text/plain": [
              "tensor([[ 0.9141,  0.1032],\n",
              "        [-0.1542, -0.6356],\n",
              "        [-0.8167,  2.0342]], grad_fn=<TBackward0>)"
            ]
          },
          "execution_count": 44,
          "metadata": {},
          "output_type": "execute_result"
        }
      ],
      "source": [
        "w.t()"
      ]
    },
    {
      "cell_type": "code",
      "execution_count": 45,
      "metadata": {
        "id": "PQtou7h-nemA"
      },
      "outputs": [],
      "source": [
        "# hamara model sirf ek function hai ,jo ki ek matrix multiplication perform krega \n",
        "def model(x):\n",
        "    return x @ w.t() + b\n",
        "# @ operator means matrix multiplication \n",
        "# w.t() , t method se matrix transpose hojate hai"
      ]
    },
    {
      "cell_type": "markdown",
      "metadata": {
        "id": "AoEA5QvYnemC"
      },
      "source": [
        "`@` represents matrix multiplication in PyTorch, and the `.t` method returns the transpose of a tensor.\n",
        "\n",
        "The matrix obtained by passing the input data into the model is a set of predictions for the target variables."
      ]
    },
    {
      "cell_type": "code",
      "execution_count": 46,
      "metadata": {
        "id": "jMOOL7BvnemC",
        "outputId": "235072b4-f91f-4d74-f21e-814c08f06f91"
      },
      "outputs": [
        {
          "name": "stdout",
          "output_type": "stream",
          "text": [
            "tensor([[ 19.0162,  52.2222],\n",
            "        [ 15.0808,  83.4502],\n",
            "        [  9.2334,  41.5947],\n",
            "        [ 54.1240,  58.2629],\n",
            "        [-11.1620,  88.3013]], grad_fn=<AddBackward0>)\n"
          ]
        }
      ],
      "source": [
        "# Generate predictions\n",
        "preds = model(inputs)\n",
        "print(preds) # ye outputs hamare model k predictions hai \n",
        "\n",
        "# model ne un random weights ko use krke predict kiya hai yeild of oranges and apples\n",
        "\n"
      ]
    },
    {
      "cell_type": "markdown",
      "metadata": {
        "id": "zXHTMToFnemD"
      },
      "source": [
        "Let's compare the predictions of our model with the actual targets."
      ]
    },
    {
      "cell_type": "code",
      "execution_count": 47,
      "metadata": {
        "id": "N3nGTuTSnemD",
        "outputId": "06a0f7fa-3ccd-4f27-855d-b4893541750b"
      },
      "outputs": [
        {
          "name": "stdout",
          "output_type": "stream",
          "text": [
            "tensor([[ 56.,  70.],\n",
            "        [ 81., 101.],\n",
            "        [119., 133.],\n",
            "        [ 22.,  37.],\n",
            "        [103., 119.]])\n"
          ]
        }
      ],
      "source": [
        "# Compare with targets\n",
        "print(targets)\n",
        "\n",
        "# ye to random weights and biases k sath aaya that ,ab hum model ko dhere dhere improve krenge \n",
        "\n",
        "# isse pehle ki hum model ko improve kr paye hame batana padega model ko ki ye kitna kharab hai \n",
        "    #- jab pata hoga ki kitna kharab hai tabhi bata payenge kya change krna chahie ."
      ]
    },
    {
      "cell_type": "markdown",
      "metadata": {
        "id": "98jYYqAsnemD"
      },
      "source": [
        "You can see a big difference between our model's predictions and the actual targets because we've initialized our model with random weights and biases. Obviously, we can't expect a randomly initialized model to *just work*."
      ]
    },
    {
      "cell_type": "markdown",
      "metadata": {
        "id": "geVioiODnemE"
      },
      "source": [
        "## Loss function\n",
        "\n",
        "Before we improve our model, we need a way to evaluate how well our model is performing. We can compare the model's predictions with the actual targets using the following method:\n",
        "\n",
        "* Calculate the difference between the two matrices (`preds` and `targets`).\n",
        "* Square all elements of the difference matrix to remove negative values.\n",
        "* Calculate the average of the elements in the resulting matrix.\n",
        "\n",
        "The result is a single number, known as the **mean squared error** (MSE)."
      ]
    },
    {
      "cell_type": "code",
      "execution_count": 92,
      "metadata": {},
      "outputs": [
        {
          "data": {
            "text/plain": [
              "tensor(583.7306, grad_fn=<SumBackward0>)"
            ]
          },
          "execution_count": 92,
          "metadata": {},
          "output_type": "execute_result"
        }
      ],
      "source": [
        "diff = preds -targets # below put into a function\n",
        "torch.sum(diff*diff)"
      ]
    },
    {
      "cell_type": "code",
      "execution_count": 94,
      "metadata": {},
      "outputs": [
        {
          "data": {
            "text/plain": [
              "30"
            ]
          },
          "execution_count": 94,
          "metadata": {},
          "output_type": "execute_result"
        }
      ],
      "source": [
        "diff.numel() # numel function gives number of elements "
      ]
    },
    {
      "cell_type": "code",
      "execution_count": 48,
      "metadata": {
        "id": "FOagVeIvnemE"
      },
      "outputs": [],
      "source": [
        "# kitna kharab hai target value predict krne k liye: \n",
        "    #- Calculate krne k liye hum difference lenge (element wise dono matrix ka )\n",
        "    #- phir hum sare elements ko square kr denge , sare differences positive hojayenge ,aur uska average le lenge\n",
        "    #- ab wo single number aagaya ,aur us single number ko use krsakte hai as an evaluation matrix \n",
        "    #- a.k.a Mean Squared Error \n",
        "\n",
        "# MSE loss\n",
        "def mse(t1, t2):\n",
        "    diff = t1 - t2\n",
        "    return torch.sum(diff * diff) / diff.numel()"
      ]
    },
    {
      "cell_type": "markdown",
      "metadata": {
        "id": "TKZYl7HxnemF"
      },
      "source": [
        "`torch.sum` returns the sum of all the elements in a tensor. The `.numel` method of a tensor returns the number of elements in a tensor. Let's compute the mean squared error for the current predictions of our model."
      ]
    },
    {
      "cell_type": "code",
      "execution_count": 95,
      "metadata": {
        "id": "gUz0gBMknemF",
        "outputId": "ce5e2ca7-1bd3-40b6-b666-3610ec987072"
      },
      "outputs": [
        {
          "name": "stdout",
          "output_type": "stream",
          "text": [
            "tensor(19.4577, grad_fn=<DivBackward0>)\n"
          ]
        }
      ],
      "source": [
        "# Compute loss\n",
        "loss = mse(preds, targets)\n",
        "print(loss)\n",
        "\n",
        "# How to interpret this result\n",
        "    #-  if we take square root of this 19.4577 =4.45, so that means each prediction(of each element ) ,\n",
        "    #- differ from  the output by (4.45 ) on an average .\n",
        "\n",
        "\n",
        "# In this case 3,4,5 is a decent error     "
      ]
    },
    {
      "cell_type": "markdown",
      "metadata": {
        "id": "hcfMiFefnemG"
      },
      "source": [
        "Here’s how we can interpret the result: *On average, each element in the prediction differs from the actual target by the square root of the loss*. And that’s pretty bad, considering the numbers we are trying to predict are themselves in the range 50–200. The result is called the *loss* because it indicates how bad the model is at predicting the target variables. It represents information loss in the model: the lower the loss, the better the model."
      ]
    },
    {
      "cell_type": "markdown",
      "metadata": {
        "id": "XeargOI7nemG"
      },
      "source": [
        "## Compute gradients\n",
        "\n",
        "With PyTorch, we can automatically compute the gradient or derivative of the loss w.r.t. to the weights and biases because they have `requires_grad` set to `True`. We'll see how this is useful in just a moment."
      ]
    },
    {
      "cell_type": "code",
      "execution_count": 50,
      "metadata": {
        "id": "ZsRQ95ovnemG"
      },
      "outputs": [],
      "source": [
        "# Compute gradients\n",
        "loss.backward() \n",
        "\n",
        "# pytorch se ye sare calculations track krke rakhe the hamare liye \n",
        "# jab loss.backward call hota hai , tab pytorch dekhta hai wo kon kon se tensors hai ,jisme requires grad true\n",
        "    #-set ki hue the,wo sare derivates save ho chuke hai w.grad me ."
      ]
    },
    {
      "cell_type": "markdown",
      "metadata": {
        "id": "UzHkO0menemH"
      },
      "source": [
        "The gradients are stored in the `.grad` property of the respective tensors. Note that the derivative of the loss w.r.t. the weights matrix is itself a matrix with the same dimensions."
      ]
    },
    {
      "cell_type": "code",
      "execution_count": 51,
      "metadata": {
        "id": "XPs9zkV6nemH",
        "outputId": "ae7d30f8-a58c-4497-885a-7c1ccf0a6a02"
      },
      "outputs": [
        {
          "name": "stdout",
          "output_type": "stream",
          "text": [
            "tensor([[ 0.9141, -0.1542, -0.8167],\n",
            "        [ 0.1032, -0.6356,  2.0342]], requires_grad=True)\n",
            "tensor([[-4569.7358, -6513.1475, -3795.6680],\n",
            "        [-2159.2917, -3403.3125, -1710.2628]])\n"
          ]
        }
      ],
      "source": [
        "# Gradients for weights\n",
        "\n",
        "# # Ye hamara original weight hai \n",
        "# tensor([[ 0.9141, -0.1542, -0.8167],\n",
        "#         [ 0.1032, -0.6356,  2.0342]], requires_grad=True)\n",
        "\n",
        "\n",
        "# derivative of first loss with respect to this weight is this \n",
        "# tensor([[-4569.7358, -6513.1475, -3795.6680],\n",
        "#         [-2159.2917, -3403.3125, -1710.2628]])\n",
        "\n",
        "\n",
        "print(w)\n",
        "print(w.grad)\n",
        "\n",
        "# do this with pen and paper "
      ]
    },
    {
      "cell_type": "code",
      "execution_count": 97,
      "metadata": {},
      "outputs": [
        {
          "name": "stdout",
          "output_type": "stream",
          "text": [
            "tensor([[ 73.,  67.,  43.],\n",
            "        [ 91.,  88.,  64.],\n",
            "        [ 87., 134.,  58.],\n",
            "        [102.,  43.,  37.],\n",
            "        [ 69.,  96.,  70.],\n",
            "        [ 74.,  66.,  43.],\n",
            "        [ 91.,  87.,  65.],\n",
            "        [ 88., 134.,  59.],\n",
            "        [101.,  44.,  37.],\n",
            "        [ 68.,  96.,  71.],\n",
            "        [ 73.,  66.,  44.],\n",
            "        [ 92.,  87.,  64.],\n",
            "        [ 87., 135.,  57.],\n",
            "        [103.,  43.,  36.],\n",
            "        [ 68.,  97.,  70.]])\n",
            "None\n"
          ]
        }
      ],
      "source": [
        "print(inputs)\n",
        "print(inputs.grad) # ye none aayega  ,coz hamne requires grad true set nhi kiya tha "
      ]
    },
    {
      "cell_type": "code",
      "execution_count": 96,
      "metadata": {},
      "outputs": [
        {
          "name": "stdout",
          "output_type": "stream",
          "text": [
            "tensor([-2.2628, -0.1967], requires_grad=True)\n",
            "tensor([0., 0.])\n"
          ]
        }
      ],
      "source": [
        "print(b)\n",
        "print(b.grad)"
      ]
    },
    {
      "cell_type": "code",
      "execution_count": null,
      "metadata": {},
      "outputs": [],
      "source": [
        "# Note\n",
        "# Quadratic function me waise to sirf ek minima hota hai \n",
        "# polynomial function me many minima hote hai \n",
        "\n",
        "# see below diagram : kisi ek weight k liye w11 loss ye hai (on graph )\n",
        "    #-see in graph w11 ko change krke loss kaise change hora ,\n",
        "    #- NOTE : koi ek range hai jaha pr w11 ki value sabse low hai <usko kaise identify karenge>\n",
        "\n",
        "# <usko identify krne k liye>\n",
        "# w11 pr aao , w11 pr jo current value hai loss ki , aur jo current gradient hai loss ka w11 k sath \n",
        "    #-dy/dy ek point pr curve ka slope batata hai \n",
        "\n",
        "    #- if gradient is positive -> slope is increasing\n",
        "    #- if gradient is negative  -> slope is decreasing <iss fact ko hum use karenge apne weight ko imorove krenge>\n",
        "\n",
        "\n",
        "\n",
        "\n"
      ]
    },
    {
      "cell_type": "markdown",
      "metadata": {
        "id": "uZX6rSa2nemH"
      },
      "source": [
        "## Adjust weights and biases to reduce the loss\n",
        "\n",
        "The loss is a [quadratic function](https://en.wikipedia.org/wiki/Quadratic_function) of our weights and biases, and our objective is to find the set of weights where the loss is the lowest. If we plot a graph of the loss w.r.t any individual weight or bias element, it will look like the figure shown below. An important insight from calculus is that the gradient indicates the rate of change of the loss, i.e., the loss function's [slope](https://en.wikipedia.org/wiki/Slope) w.r.t. the weights and biases.\n",
        "\n",
        "If a gradient element is **positive**:\n",
        "\n",
        "* **increasing** the weight element's value slightly will **increase** the loss\n",
        "* **decreasing** the weight element's value slightly will **decrease** the loss\n",
        "\n",
        "![postive-gradient](https://i.imgur.com/WLzJ4xP.png)\n",
        "\n",
        "If a gradient element is **negative**:\n",
        "\n",
        "* **increasing** the weight element's value slightly will **decrease** the loss\n",
        "* **decreasing** the weight element's value slightly will **increase** the loss\n",
        "\n",
        "![negative=gradient](https://i.imgur.com/dvG2fxU.png)\n",
        "\n",
        "The increase or decrease in the loss by changing a weight element is proportional to the gradient of the loss w.r.t. that element. This observation forms the basis of _the gradient descent_ optimization algorithm that we'll use to improve our model (by _descending_ along the _gradient_).\n",
        "\n",
        "We can subtract from each weight element a small quantity proportional to the derivative of the loss w.r.t. that element to reduce the loss slightly."
      ]
    },
    {
      "cell_type": "code",
      "execution_count": 52,
      "metadata": {
        "id": "Yfk6SxwynemI",
        "outputId": "24657944-b71e-46f1-9d2b-a58cf299ada7"
      },
      "outputs": [
        {
          "data": {
            "text/plain": [
              "tensor([[-4569.7358, -6513.1475, -3795.6680],\n",
              "        [-2159.2917, -3403.3125, -1710.2628]])"
            ]
          },
          "execution_count": 52,
          "metadata": {},
          "output_type": "execute_result"
        }
      ],
      "source": [
        "w\n",
        "w.grad"
      ]
    },
    {
      "cell_type": "code",
      "execution_count": 53,
      "metadata": {
        "id": "yRPRsQ5KnemI"
      },
      "outputs": [],
      "source": [
        "with torch.no_grad():\n",
        "    w -= w.grad * 1e-5\n",
        "    b -= b.grad * 1e-5"
      ]
    },
    {
      "cell_type": "markdown",
      "metadata": {
        "id": "sFGxlKqLnemJ"
      },
      "source": [
        "We multiply the gradients with a very small number (`10^-5` in this case) to ensure that we don't modify the weights by a very large amount. We want to take a small step in the downhill direction of the gradient, not a giant leap. This number is called the *learning rate* of the algorithm. \n",
        "\n",
        "We use `torch.no_grad` to indicate to PyTorch that we shouldn't track, calculate, or modify gradients while updating the weights and biases."
      ]
    },
    {
      "cell_type": "code",
      "execution_count": 54,
      "metadata": {
        "id": "TaklI6iYnemJ",
        "outputId": "4a580369-8028-4a31-b860-17ba2343ec95"
      },
      "outputs": [
        {
          "name": "stdout",
          "output_type": "stream",
          "text": [
            "tensor(4220.0220, grad_fn=<DivBackward0>)\n"
          ]
        }
      ],
      "source": [
        "# Let's verify that the loss is actually lower\n",
        "loss = mse(preds, targets)\n",
        "print(loss)"
      ]
    },
    {
      "cell_type": "markdown",
      "metadata": {
        "id": "6GQ5IMuknemK"
      },
      "source": [
        "Before we proceed, we reset the gradients to zero by invoking the `.zero_()` method. We need to do this because PyTorch accumulates gradients. Otherwise, the next time we invoke `.backward` on the loss, the new gradient values are added to the existing gradients, which may lead to unexpected results."
      ]
    },
    {
      "cell_type": "code",
      "execution_count": 55,
      "metadata": {
        "id": "Gk7oetmunemK",
        "outputId": "ef746b6b-c8aa-44e3-8e76-7a62fd99c97b"
      },
      "outputs": [
        {
          "name": "stdout",
          "output_type": "stream",
          "text": [
            "tensor([[0., 0., 0.],\n",
            "        [0., 0., 0.]])\n",
            "tensor([0., 0.])\n"
          ]
        }
      ],
      "source": [
        "w.grad.zero_() # ek round of calculation hogaya hai ,next round k liye values ko zero se reinitialize krre hai\n",
        "b.grad.zero_()\n",
        "print(w.grad)\n",
        "print(b.grad)\n",
        "\n",
        "# kabhi bhie gradient computation krke kam hogaye , to zero se initialze krdo "
      ]
    },
    {
      "cell_type": "markdown",
      "metadata": {
        "id": "HCiCXzs1nemK"
      },
      "source": [
        "## Train the model using gradient descent\n",
        "\n",
        "As seen above, we reduce the loss and improve our model using the gradient descent optimization algorithm. Thus, we can _train_ the model using the following steps:\n",
        "\n",
        "1. Generate predictions\n",
        "\n",
        "2. Calculate the loss\n",
        "\n",
        "3. Compute gradients w.r.t the weights and biases\n",
        "\n",
        "4. Adjust the weights by subtracting a small quantity proportional to the gradient\n",
        "\n",
        "5. Reset the gradients to zero\n",
        "\n",
        "Let's implement the above step by step."
      ]
    },
    {
      "cell_type": "code",
      "execution_count": 56,
      "metadata": {
        "id": "unx3ed-pnemK",
        "outputId": "05b77c9f-3477-4872-9d5e-2471d3ab58d4"
      },
      "outputs": [
        {
          "name": "stdout",
          "output_type": "stream",
          "text": [
            "tensor([[28.3486, 56.8144],\n",
            "        [27.4007, 89.5050],\n",
            "        [24.1388, 49.0260],\n",
            "        [62.9907, 62.5618],\n",
            "        [ 0.9013, 94.2559]], grad_fn=<AddBackward0>)\n"
          ]
        }
      ],
      "source": [
        "# Generate predictions\n",
        "preds = model(inputs)\n",
        "print(preds)"
      ]
    },
    {
      "cell_type": "code",
      "execution_count": 57,
      "metadata": {
        "id": "vVHKm35cnemK",
        "outputId": "74ec87da-94ea-46c8-fa10-fc09b90b1b18"
      },
      "outputs": [
        {
          "name": "stdout",
          "output_type": "stream",
          "text": [
            "tensor(3336.3821, grad_fn=<DivBackward0>)\n"
          ]
        }
      ],
      "source": [
        "# Calculate the loss\n",
        "loss = mse(preds, targets)\n",
        "print(loss)"
      ]
    },
    {
      "cell_type": "code",
      "execution_count": 58,
      "metadata": {
        "id": "ILfhY7QpnemL",
        "outputId": "9190e23a-bcd4-4af0-ceef-08b449ffdb97"
      },
      "outputs": [
        {
          "name": "stdout",
          "output_type": "stream",
          "text": [
            "tensor([[-3602.5527, -5463.9307, -3150.3130],\n",
            "        [-1682.8739, -2884.7578, -1391.8906]])\n",
            "tensor([-47.4440, -21.5674])\n"
          ]
        }
      ],
      "source": [
        "# Compute gradients\n",
        "loss.backward()\n",
        "print(w.grad)\n",
        "print(b.grad)"
      ]
    },
    {
      "cell_type": "markdown",
      "metadata": {
        "id": "YM5ka9TEnemM"
      },
      "source": [
        "Let's update the weights and biases using the gradients computed above."
      ]
    },
    {
      "cell_type": "code",
      "execution_count": 59,
      "metadata": {
        "id": "KBWOv_Y1nemM"
      },
      "outputs": [],
      "source": [
        "# HAME GRADIENT K OPPOSITE DIRECTION ME EK CHOOT SA STEP LENA HAI , \n",
        "\n",
        "# Adjust weights & reset gradients\n",
        "with torch.no_grad():\n",
        "    w -= w.grad * 1e-5 # har ek element contribute kre thoda thoda loss ko kam krne me \n",
        "    b -= b.grad * 1e-5 # bias and weigts update hogaye hain\n",
        "    w.grad.zero_() # ek bar weight and bias update hogaye tab hamne unke gradients ko hata diya(zero kr diya)\n",
        "    b.grad.zero_()"
      ]
    },
    {
      "cell_type": "markdown",
      "metadata": {
        "id": "_HNIrUgnnemM"
      },
      "source": [
        "Let's take a look at the new weights and biases."
      ]
    },
    {
      "cell_type": "code",
      "execution_count": 60,
      "metadata": {
        "id": "XPkAZxCnnemN",
        "outputId": "890d33bf-2f8a-474c-e92b-19007acc706f"
      },
      "outputs": [
        {
          "name": "stdout",
          "output_type": "stream",
          "text": [
            "tensor([[ 0.9958, -0.0344, -0.7473],\n",
            "        [ 0.1416, -0.5727,  2.0652]], requires_grad=True)\n",
            "tensor([-2.2614, -0.1944], requires_grad=True)\n"
          ]
        }
      ],
      "source": [
        "print(w)\n",
        "print(b)"
      ]
    },
    {
      "cell_type": "markdown",
      "metadata": {
        "id": "-H3t3tYHnemN"
      },
      "source": [
        "With the new weights and biases, the model should have a lower loss."
      ]
    },
    {
      "cell_type": "code",
      "execution_count": 61,
      "metadata": {
        "id": "75TEPxHxnemN",
        "outputId": "b81dd149-b12c-4c1e-caf6-8356d11f45ff"
      },
      "outputs": [
        {
          "name": "stdout",
          "output_type": "stream",
          "text": [
            "tensor(2735.3074, grad_fn=<DivBackward0>)\n"
          ]
        }
      ],
      "source": [
        "# Calculate loss\n",
        "preds = model(inputs) # weights and biases update hone k bad new predictions .\n",
        "loss = mse(preds, targets)\n",
        "print(loss)"
      ]
    },
    {
      "cell_type": "markdown",
      "metadata": {
        "id": "4VYStFVWnemO"
      },
      "source": [
        "We have already achieved a significant reduction in the loss merely by adjusting the weights and biases slightly using gradient descent."
      ]
    },
    {
      "cell_type": "markdown",
      "metadata": {
        "id": "OzmqMKlTnemO"
      },
      "source": [
        "## Train for multiple epochs\n",
        "\n",
        "To reduce the loss further, we can repeat the process of adjusting the weights and biases using the gradients multiple times. Each iteration is called an _epoch_. Let's train the model for 100 epochs."
      ]
    },
    {
      "cell_type": "code",
      "execution_count": 62,
      "metadata": {
        "id": "uHW5qCyLnemO"
      },
      "outputs": [],
      "source": [
        "# ek bar pure process ko repeat krne ko ek epochs kehte hai \n",
        "# Train for 100 epochs\n",
        "for i in range(100):\n",
        "    preds = model(inputs)\n",
        "    loss = mse(preds, targets)\n",
        "    loss.backward()\n",
        "    with torch.no_grad():\n",
        "        w -= w.grad * 1e-5\n",
        "        b -= b.grad * 1e-5\n",
        "        w.grad.zero_()\n",
        "        b.grad.zero_()\n",
        "\n",
        "# Gradient descent : hamne weights ko thoda thoda kam kiya taki loss thoda thoda kam hote jaye\n",
        "    #- at the end hamne weights ko bahut aacha krdiya           \n",
        "\n",
        "    #- hamne bina actual relationship ko jane hue ,hamne us relationship ko ,improve krdiya hai \n",
        "    # - hamne sirf ek model banaya tha us relationship ka      "
      ]
    },
    {
      "cell_type": "markdown",
      "metadata": {
        "id": "YRLMhxennemP"
      },
      "source": [
        "Once again, let's verify that the loss is now lower:"
      ]
    },
    {
      "cell_type": "code",
      "execution_count": 63,
      "metadata": {
        "id": "Gi88hxYYnemP",
        "outputId": "aa4d26fc-a4a6-4f32-a6ba-00907165b42b"
      },
      "outputs": [
        {
          "name": "stdout",
          "output_type": "stream",
          "text": [
            "tensor(526.1099, grad_fn=<DivBackward0>)\n"
          ]
        }
      ],
      "source": [
        "# Calculate loss\n",
        "preds = model(inputs)\n",
        "loss = mse(preds, targets)\n",
        "print(loss)"
      ]
    },
    {
      "cell_type": "markdown",
      "metadata": {
        "id": "PiuDCaFvnemP"
      },
      "source": [
        "The loss is now much lower than its initial value. Let's look at the model's predictions and compare them with the targets."
      ]
    },
    {
      "cell_type": "code",
      "execution_count": 64,
      "metadata": {
        "id": "ZQ1HLTQ9nemQ",
        "outputId": "e9790d7a-01b5-4163-dc6b-b09758c5d58d"
      },
      "outputs": [
        {
          "data": {
            "text/plain": [
              "tensor([[ 64.9523,  73.9559],\n",
              "        [ 79.9299, 113.3156],\n",
              "        [111.3457,  98.3353],\n",
              "        [ 67.7820,  59.4283],\n",
              "        [ 70.2602, 128.0186]], grad_fn=<AddBackward0>)"
            ]
          },
          "execution_count": 64,
          "metadata": {},
          "output_type": "execute_result"
        }
      ],
      "source": [
        "# Predictions\n",
        "preds"
      ]
    },
    {
      "cell_type": "code",
      "execution_count": 65,
      "metadata": {
        "id": "5snAD-2DnemQ",
        "outputId": "6165bb11-9e5a-4fa9-e43a-56c422153f6e"
      },
      "outputs": [
        {
          "data": {
            "text/plain": [
              "tensor([[ 56.,  70.],\n",
              "        [ 81., 101.],\n",
              "        [119., 133.],\n",
              "        [ 22.,  37.],\n",
              "        [103., 119.]])"
            ]
          },
          "execution_count": 65,
          "metadata": {},
          "output_type": "execute_result"
        }
      ],
      "source": [
        "# Targets\n",
        "targets"
      ]
    },
    {
      "cell_type": "markdown",
      "metadata": {
        "id": "ify_kPnFnemR"
      },
      "source": [
        "The predictions are now quite close to the target variables. We can get even better results by training for a few more epochs. "
      ]
    },
    {
      "cell_type": "markdown",
      "metadata": {
        "id": "CiqDwG4wnemS"
      },
      "source": [
        "## Linear regression using PyTorch built-ins\n",
        "\n",
        "We've implemented linear regression & gradient descent model using some basic tensor operations. However, since this is a common pattern in deep learning, PyTorch provides several built-in functions and classes to make it easy to create and train models with just a few lines of code.\n",
        "\n",
        "Let's begin by importing the `torch.nn` package from PyTorch, which contains utility classes for building neural networks."
      ]
    },
    {
      "cell_type": "code",
      "execution_count": null,
      "metadata": {},
      "outputs": [],
      "source": [
        "# In above all ,hamne implement kiya linear regression ko basic tensor operation use krke \n",
        "\n",
        "# Lakin kyuki ye bahut common pattern hai : pytorch me ye buildin functionality hai(buildin functions & classes hai)\n",
        "    #- taki aap ye aasani se kr paye (model trainig and model definition )\n",
        "\n"
      ]
    },
    {
      "cell_type": "code",
      "execution_count": 98,
      "metadata": {
        "id": "ZVP26feXnemT"
      },
      "outputs": [],
      "source": [
        "# humn torch.nn to import krke linear regression to implement krenge chote se code me \n",
        "\n",
        "import torch.nn as nn  # nn commonly used alias"
      ]
    },
    {
      "cell_type": "markdown",
      "metadata": {
        "id": "gaV0Vfd4nemT"
      },
      "source": [
        "As before, we represent the inputs and targets and matrices."
      ]
    },
    {
      "cell_type": "code",
      "execution_count": 99,
      "metadata": {
        "id": "6kKbEeg-nemT"
      },
      "outputs": [],
      "source": [
        "# Input (temp, rainfall, humidity)\n",
        "inputs = np.array([[73, 67, 43], \n",
        "                   [91, 88, 64], \n",
        "                   [87, 134, 58], \n",
        "                   [102, 43, 37], \n",
        "                   [69, 96, 70], \n",
        "                   [74, 66, 43], \n",
        "                   [91, 87, 65], \n",
        "                   [88, 134, 59], \n",
        "                   [101, 44, 37], \n",
        "                   [68, 96, 71], \n",
        "                   [73, 66, 44], \n",
        "                   [92, 87, 64], \n",
        "                   [87, 135, 57], \n",
        "                   [103, 43, 36], \n",
        "                   [68, 97, 70]], \n",
        "                  dtype='float32')\n",
        "\n",
        "# Targets (apples, oranges)\n",
        "targets = np.array([[56, 70], \n",
        "                    [81, 101], \n",
        "                    [119, 133], \n",
        "                    [22, 37], \n",
        "                    [103, 119],\n",
        "                    [57, 69], \n",
        "                    [80, 102], \n",
        "                    [118, 132], \n",
        "                    [21, 38], \n",
        "                    [104, 118], \n",
        "                    [57, 69], \n",
        "                    [82, 100], \n",
        "                    [118, 134], \n",
        "                    [20, 38], \n",
        "                    [102, 120]], \n",
        "                   dtype='float32')\n",
        "\n",
        "inputs = torch.from_numpy(inputs)\n",
        "targets = torch.from_numpy(targets)"
      ]
    },
    {
      "cell_type": "code",
      "execution_count": 71,
      "metadata": {
        "id": "EQ93awvanemU",
        "outputId": "5ff679b2-6c53-467b-e947-a136bbfa1bdd"
      },
      "outputs": [
        {
          "data": {
            "text/plain": [
              "tensor([[ 73.,  67.,  43.],\n",
              "        [ 91.,  88.,  64.],\n",
              "        [ 87., 134.,  58.],\n",
              "        [102.,  43.,  37.],\n",
              "        [ 69.,  96.,  70.],\n",
              "        [ 74.,  66.,  43.],\n",
              "        [ 91.,  87.,  65.],\n",
              "        [ 88., 134.,  59.],\n",
              "        [101.,  44.,  37.],\n",
              "        [ 68.,  96.,  71.],\n",
              "        [ 73.,  66.,  44.],\n",
              "        [ 92.,  87.,  64.],\n",
              "        [ 87., 135.,  57.],\n",
              "        [103.,  43.,  36.],\n",
              "        [ 68.,  97.,  70.]])"
            ]
          },
          "execution_count": 71,
          "metadata": {},
          "output_type": "execute_result"
        }
      ],
      "source": [
        "inputs"
      ]
    },
    {
      "cell_type": "code",
      "execution_count": 100,
      "metadata": {},
      "outputs": [
        {
          "data": {
            "text/plain": [
              "tensor([[ 56.,  70.],\n",
              "        [ 81., 101.],\n",
              "        [119., 133.],\n",
              "        [ 22.,  37.],\n",
              "        [103., 119.],\n",
              "        [ 57.,  69.],\n",
              "        [ 80., 102.],\n",
              "        [118., 132.],\n",
              "        [ 21.,  38.],\n",
              "        [104., 118.],\n",
              "        [ 57.,  69.],\n",
              "        [ 82., 100.],\n",
              "        [118., 134.],\n",
              "        [ 20.,  38.],\n",
              "        [102., 120.]])"
            ]
          },
          "execution_count": 100,
          "metadata": {},
          "output_type": "execute_result"
        }
      ],
      "source": [
        "targets"
      ]
    },
    {
      "cell_type": "code",
      "execution_count": null,
      "metadata": {},
      "outputs": [],
      "source": [
        "# NOTE : Real life me hame 10 lakh ,2 lakh number of data points milte hai,\n",
        "    #-  itne sare ko hum ek sath process nhi kr sakte hai\n",
        "    #- isliye hum data ko chote chote batches me splite kr lete hain \n",
        "\n",
        "# so hum 15 rows ko 5 rows k batches me process krenge \n",
        "\n",
        "# batches me process krne se computation fast hoti hai , kyuki kam calculation krne hoti hai ,faster training\n",
        "# shayad ram me fit bhe na hoga aapka pura dataset\n",
        "\n",
        "# batches me krke k liye : hame dataset and dataloader banana hoga "
      ]
    },
    {
      "cell_type": "markdown",
      "metadata": {
        "id": "BfNb506AnemU"
      },
      "source": [
        "We are using 15 training examples to illustrate how to work with large datasets in small batches. "
      ]
    },
    {
      "cell_type": "markdown",
      "metadata": {
        "id": "uTX04rUAnemU"
      },
      "source": [
        "## Dataset and DataLoader\n",
        "\n",
        "We'll create a `TensorDataset`, which allows access to rows from `inputs` and `targets` as tuples, and provides standard APIs for working with many different types of datasets in PyTorch."
      ]
    },
    {
      "cell_type": "code",
      "execution_count": 72,
      "metadata": {
        "id": "ZrjxysJKnemV"
      },
      "outputs": [],
      "source": [
        "from torch.utils.data import TensorDataset\n",
        "#        MODULE                 CLASS"
      ]
    },
    {
      "cell_type": "code",
      "execution_count": 73,
      "metadata": {
        "id": "XdQu-3WZnemV",
        "outputId": "95924a04-93eb-4548-cedc-fbc3e1e4a7fa"
      },
      "outputs": [
        {
          "data": {
            "text/plain": [
              "(tensor([[ 73.,  67.,  43.],\n",
              "         [ 91.,  88.,  64.],\n",
              "         [ 87., 134.,  58.]]),\n",
              " tensor([[ 56.,  70.],\n",
              "         [ 81., 101.],\n",
              "         [119., 133.]]))"
            ]
          },
          "execution_count": 73,
          "metadata": {},
          "output_type": "execute_result"
        }
      ],
      "source": [
        "# Define dataset\n",
        "train_ds = TensorDataset(inputs, targets) # tensor dataset object \n",
        "# tensor dataset object : ek standard api deta hai\n",
        "# agar aap inputs and targets pass krte hai ,ek input dataset ko to ye ek tensor dataset object ban jata hai\n",
        "  \n",
        "# tensor dataset object : ek aasan tareka deta hai ,ek standard api deta hai .agar aapko apne pure data me se\n",
        "                                                                        #- kuch slice of data nikalna hai to      \n",
        "\n",
        "train_ds[0:3]  #(2 datasets aajate hai , input ,outputs)"
      ]
    },
    {
      "cell_type": "markdown",
      "metadata": {
        "id": "QZQ-GL4jnemV"
      },
      "source": [
        "The `TensorDataset` allows us to access a small section of the training data using the array indexing notation (`[0:3]` in the above code). It returns a tuple with two elements. The first element contains the input variables for the selected rows, and the second contains the targets."
      ]
    },
    {
      "cell_type": "markdown",
      "metadata": {
        "id": "9kWM0ZP8nemV"
      },
      "source": [
        "We'll also create a `DataLoader`, which can split the data into batches of a predefined size while training. It also provides other utilities like shuffling and random sampling of the data."
      ]
    },
    {
      "cell_type": "code",
      "execution_count": 74,
      "metadata": {
        "id": "eSmzGETZnemW"
      },
      "outputs": [],
      "source": [
        "from torch.utils.data import DataLoader\n",
        "# data loader hamare data ko batches me split krta hain \n",
        "# agar hamare pass 15 elements hai to hum 15 elements ko 3 batches me split krenge "
      ]
    },
    {
      "cell_type": "code",
      "execution_count": 75,
      "metadata": {
        "id": "6WqEtMZMnemW"
      },
      "outputs": [],
      "source": [
        "# Define data loader\n",
        "batch_size = 5\n",
        "train_dl = DataLoader(train_ds, batch_size, shuffle=True)"
      ]
    },
    {
      "cell_type": "markdown",
      "metadata": {
        "id": "HJCTKkvtnemW"
      },
      "source": [
        "We can use the data loader in a `for` loop. Let's look at an example."
      ]
    },
    {
      "cell_type": "code",
      "execution_count": 76,
      "metadata": {
        "id": "S2tfoNPcnemW",
        "outputId": "a91384e2-59fb-4c06-ec73-75685eebbd6a"
      },
      "outputs": [
        {
          "name": "stdout",
          "output_type": "stream",
          "text": [
            "tensor([[ 88., 134.,  59.],\n",
            "        [ 91.,  87.,  65.],\n",
            "        [103.,  43.,  36.],\n",
            "        [ 92.,  87.,  64.],\n",
            "        [ 87., 134.,  58.]])\n",
            "tensor([[118., 132.],\n",
            "        [ 80., 102.],\n",
            "        [ 20.,  38.],\n",
            "        [ 82., 100.],\n",
            "        [119., 133.]])\n"
          ]
        }
      ],
      "source": [
        "# dataloaders : shuffle krke data ko batches me banadete hain  , (shuffle se loss reduction faster ho jata hai)\n",
        "# dataloaders ko hum generally hum ek for loop me use krte hain ,\n",
        "\n",
        "# xb -> batch of inputs \n",
        "# yb -> batch of outputs/targets\n",
        "for xb, yb in train_dl:\n",
        "    print(xb) \n",
        "    print(yb)\n",
        "    # corresponding iputs k targets print hue hain\n",
        "    break"
      ]
    },
    {
      "cell_type": "markdown",
      "metadata": {
        "id": "aiYWMPZunemX"
      },
      "source": [
        "In each iteration, the data loader returns one batch of data with the given batch size. If `shuffle` is set to `True`, it shuffles the training data before creating batches. Shuffling helps randomize the input to the optimization algorithm, leading to a faster reduction in the loss."
      ]
    },
    {
      "cell_type": "markdown",
      "metadata": {
        "id": "NHLLyXyhnemX"
      },
      "source": [
        "## nn.Linear\n",
        "\n",
        "Instead of initializing the weights & biases manually, we can define the model using the `nn.Linear` class from PyTorch, which does it automatically."
      ]
    },
    {
      "cell_type": "code",
      "execution_count": 77,
      "metadata": {
        "id": "ipNceqPQnemX",
        "outputId": "8d48ae13-965d-4da4-e24e-365751c00984"
      },
      "outputs": [
        {
          "name": "stdout",
          "output_type": "stream",
          "text": [
            "Parameter containing:\n",
            "tensor([[-0.5175,  0.3125, -0.2209],\n",
            "        [ 0.0248,  0.2029,  0.2904]], requires_grad=True)\n",
            "Parameter containing:\n",
            "tensor([-0.1309,  0.3010], requires_grad=True)\n"
          ]
        }
      ],
      "source": [
        "# Define model\n",
        "model = nn.Linear(3, 2)\n",
        "print(model.weight)\n",
        "print(model.bias)"
      ]
    },
    {
      "cell_type": "markdown",
      "metadata": {
        "id": "1cg6Sq00nemX"
      },
      "source": [
        "PyTorch models also have a helpful `.parameters` method, which returns a list containing all the weights and bias matrices present in the model. For our linear regression model, we have one weight matrix and one bias matrix."
      ]
    },
    {
      "cell_type": "code",
      "execution_count": 78,
      "metadata": {
        "id": "v9_ztrPcnemY",
        "outputId": "c86cf38b-8e61-4317-e971-ef2db33495a6"
      },
      "outputs": [
        {
          "data": {
            "text/plain": [
              "[Parameter containing:\n",
              " tensor([[-0.5175,  0.3125, -0.2209],\n",
              "         [ 0.0248,  0.2029,  0.2904]], requires_grad=True),\n",
              " Parameter containing:\n",
              " tensor([-0.1309,  0.3010], requires_grad=True)]"
            ]
          },
          "execution_count": 78,
          "metadata": {},
          "output_type": "execute_result"
        }
      ],
      "source": [
        "# Parameters\n",
        "list(model.parameters()) # parameters gives model k andar kya kya hain"
      ]
    },
    {
      "cell_type": "markdown",
      "metadata": {
        "id": "lbptf8lDnemY"
      },
      "source": [
        "We can use the model to generate predictions in the same way as before."
      ]
    },
    {
      "cell_type": "code",
      "execution_count": 79,
      "metadata": {
        "id": "O_zRmvTRnemY",
        "outputId": "16022ad5-cf1f-4828-8461-8692c8788e88"
      },
      "outputs": [
        {
          "data": {
            "text/plain": [
              "tensor([[-26.4744,  28.1932],\n",
              "        [-33.8673,  38.9993],\n",
              "        [-16.0968,  46.4897],\n",
              "        [-47.6576,  22.3007],\n",
              "        [-21.3069,  41.8194],\n",
              "        [-27.3045,  28.0151],\n",
              "        [-34.4007,  39.0869],\n",
              "        [-16.8352,  46.8050],\n",
              "        [-46.8276,  22.4788],\n",
              "        [-21.0102,  42.0850],\n",
              "        [-27.0078,  28.2808],\n",
              "        [-34.6973,  38.8212],\n",
              "        [-15.5633,  46.4022],\n",
              "        [-47.9542,  22.0351],\n",
              "        [-20.4768,  41.9974]], grad_fn=<AddmmBackward0>)"
            ]
          },
          "execution_count": 79,
          "metadata": {},
          "output_type": "execute_result"
        }
      ],
      "source": [
        "# Generate predictions\n",
        "preds = model(inputs)\n",
        "preds"
      ]
    },
    {
      "cell_type": "markdown",
      "metadata": {
        "id": "ruPjTZBnnemZ"
      },
      "source": [
        "## Loss Function\n",
        "\n",
        "Instead of defining a loss function manually, we can use the built-in loss function `mse_loss`."
      ]
    },
    {
      "cell_type": "code",
      "execution_count": 80,
      "metadata": {
        "id": "Bijsd7lFnemZ"
      },
      "outputs": [],
      "source": [
        "# Import nn.functional\n",
        "import torch.nn.functional as F # F alias convention hai"
      ]
    },
    {
      "cell_type": "markdown",
      "metadata": {
        "id": "gWG2XvXUnemZ"
      },
      "source": [
        "The `nn.functional` package contains many useful loss functions and several other utilities. "
      ]
    },
    {
      "cell_type": "code",
      "execution_count": 81,
      "metadata": {
        "id": "lq1GGdGPnemZ"
      },
      "outputs": [],
      "source": [
        "# Define loss function\n",
        "loss_fn = F.mse_loss # mse_loss is loss function hai ,jo already implemented hai "
      ]
    },
    {
      "cell_type": "markdown",
      "metadata": {
        "id": "cvmsrT_bnema"
      },
      "source": [
        "Let's compute the loss for the current predictions of our model."
      ]
    },
    {
      "cell_type": "code",
      "execution_count": 82,
      "metadata": {
        "id": "Xe5k7Y93nema",
        "outputId": "41754fc1-bcc3-40f3-8fef-6efbfd6bb936"
      },
      "outputs": [
        {
          "name": "stdout",
          "output_type": "stream",
          "text": [
            "tensor(7761.6987, grad_fn=<MseLossBackward0>)\n"
          ]
        }
      ],
      "source": [
        "loss = loss_fn(model(inputs), targets)\n",
        "print(loss)"
      ]
    },
    {
      "cell_type": "markdown",
      "metadata": {
        "id": "58fbLfponemb"
      },
      "source": [
        "## Optimizer\n",
        "\n",
        "Instead of manually manipulating the model's weights & biases using gradients, we can use the optimizer `optim.SGD`. SGD is short for \"stochastic gradient descent\". The term _stochastic_ indicates that samples are selected in random batches instead of as a single group."
      ]
    },
    {
      "cell_type": "code",
      "execution_count": 83,
      "metadata": {
        "id": "-SBLzpbBnemb"
      },
      "outputs": [],
      "source": [
        "# Define optimizer : for gradient descent \n",
        "\n",
        "#  optim : class me bahut sare optimizers hai \n",
        "# SGD : ek type ka optimizer hai jiske full form hai stochastic gradient descent \n",
        "        #- stochastic means  data ko random batches me select kiya gaya hai \n",
        "\n",
        "# ab is optimizer ko 2 chize pass kene hai ,\n",
        "    #- pehle chiz (kon kon se weights , biases matrices )per optimization perform krne hai   \n",
        "    #- dusre chiz learning rate : lr ,ye number multiply hoga gradient k sath \n",
        "opt = torch.optim.SGD(model.parameters(), lr=1e-5)"
      ]
    },
    {
      "cell_type": "markdown",
      "metadata": {
        "id": "ZQVmZjzonemb"
      },
      "source": [
        "Note that `model.parameters()` is passed as an argument to `optim.SGD` so that the optimizer knows which matrices should be modified during the update step. Also, we can specify a learning rate that controls the amount by which the parameters are modified."
      ]
    },
    {
      "cell_type": "markdown",
      "metadata": {
        "id": "8Nyosahpnemb"
      },
      "source": [
        "## Train the model\n",
        "\n",
        "We are now ready to train the model. We'll follow the same process to implement gradient descent:\n",
        "\n",
        "1. Generate predictions\n",
        "\n",
        "2. Calculate the loss\n",
        "\n",
        "3. Compute gradients w.r.t the weights and biases\n",
        "\n",
        "4. Adjust the weights by subtracting a small quantity proportional to the gradient\n",
        "\n",
        "5. Reset the gradients to zero\n",
        "\n",
        "The only change is that we'll work batches of data instead of processing the entire training data in every iteration. Let's define a utility function `fit` that trains the model for a given number of epochs."
      ]
    },
    {
      "cell_type": "code",
      "execution_count": 102,
      "metadata": {
        "id": "bzK6tdNonemc"
      },
      "outputs": [],
      "source": [
        "# STEP BY STEP GRADIENT DESCENT APPLY HOTA RAHEGA AUR MODEL IMPROVE HOTA RAHEGA\n",
        "\n",
        "# Utility function to train the model\n",
        "def fit(num_epochs, model, loss_fn, opt, train_dl):\n",
        "    \n",
        "    # Repeat for given number of epochs\n",
        "    for epoch in range(num_epochs):\n",
        "        \n",
        "        # Train with batches of data\n",
        "        for xb,yb in train_dl:\n",
        "            \n",
        "            # 1. Generate predictions\n",
        "            pred = model(xb)\n",
        "            \n",
        "            # 2. Calculate loss\n",
        "            loss = loss_fn(pred, yb)\n",
        "            \n",
        "            # 3. Compute gradients\n",
        "            loss.backward()\n",
        "            \n",
        "            # 4. Update parameters using gradients\n",
        "            opt.step()\n",
        "            \n",
        "            # 5. Reset the gradients to zero\n",
        "            opt.zero_grad()\n",
        "\n",
        "\n",
        "\n",
        "        \n",
        "        # Print the progress\n",
        "        if (epoch+1) % 10 == 0: # HAR BAR CURRENT EPOCHS K LOSS KO PRINT KR DENGE \n",
        "            print('Epoch [{}/{}], Loss: {:.4f}'.format(epoch+1, num_epochs, loss.item()))"
      ]
    },
    {
      "cell_type": "markdown",
      "metadata": {
        "id": "2QzYW1_0nemc"
      },
      "source": [
        "Some things to note above:\n",
        "\n",
        "* We use the data loader defined earlier to get batches of data for every iteration.\n",
        "\n",
        "* Instead of updating parameters (weights and biases) manually, we use `opt.step` to perform the update and `opt.zero_grad` to reset the gradients to zero.\n",
        "\n",
        "* We've also added a log statement that prints the loss from the last batch of data for every 10th epoch to track training progress. `loss.item` returns the actual value stored in the loss tensor.\n",
        "\n",
        "Let's train the model for 100 epochs."
      ]
    },
    {
      "cell_type": "code",
      "execution_count": 85,
      "metadata": {
        "id": "_8VTIkzInemd",
        "outputId": "50c56664-5f8c-4585-da69-55f5c5b5c723"
      },
      "outputs": [
        {
          "name": "stdout",
          "output_type": "stream",
          "text": [
            "Epoch [10/100], Loss: 249.7894\n",
            "Epoch [20/100], Loss: 17.7657\n",
            "Epoch [30/100], Loss: 34.7012\n",
            "Epoch [40/100], Loss: 58.9675\n",
            "Epoch [50/100], Loss: 52.1314\n",
            "Epoch [60/100], Loss: 41.1994\n",
            "Epoch [70/100], Loss: 24.5418\n",
            "Epoch [80/100], Loss: 21.6236\n",
            "Epoch [90/100], Loss: 18.7916\n",
            "Epoch [100/100], Loss: 23.7108\n"
          ]
        }
      ],
      "source": [
        "fit(100, model, loss_fn, opt, train_dl) \n",
        "\n",
        "# YE LOSS MEAN SQUARED ERROR HAIN "
      ]
    },
    {
      "cell_type": "markdown",
      "metadata": {
        "id": "DXa4SNfVnemd"
      },
      "source": [
        "Let's generate predictions using our model and verify that they're close to our targets."
      ]
    },
    {
      "cell_type": "code",
      "execution_count": 86,
      "metadata": {
        "id": "GX3cHcQpnemf",
        "outputId": "c7592089-bd9a-430a-e418-746d9fe0a2ec"
      },
      "outputs": [
        {
          "data": {
            "text/plain": [
              "tensor([[ 57.6564,  71.4103],\n",
              "        [ 79.1703,  99.0571],\n",
              "        [123.5475, 134.4507],\n",
              "        [ 24.7215,  43.2086],\n",
              "        [ 94.5800, 112.8063],\n",
              "        [ 56.4096,  70.4205],\n",
              "        [ 78.4705,  98.8337],\n",
              "        [123.5560, 134.9093],\n",
              "        [ 25.9682,  44.1985],\n",
              "        [ 95.1269, 113.5727],\n",
              "        [ 56.9565,  71.1869],\n",
              "        [ 77.9235,  98.0672],\n",
              "        [124.2473, 134.6741],\n",
              "        [ 24.1745,  42.4422],\n",
              "        [ 95.8268, 113.7961]], grad_fn=<AddmmBackward0>)"
            ]
          },
          "execution_count": 86,
          "metadata": {},
          "output_type": "execute_result"
        }
      ],
      "source": [
        "# Generate predictions\n",
        "preds = model(inputs)\n",
        "preds"
      ]
    },
    {
      "cell_type": "code",
      "execution_count": 87,
      "metadata": {
        "id": "Ylb5RMinnemf",
        "outputId": "3e101073-c8cb-4f59-89a4-b13eebd0494b"
      },
      "outputs": [
        {
          "data": {
            "text/plain": [
              "tensor([[ 56.,  70.],\n",
              "        [ 81., 101.],\n",
              "        [119., 133.],\n",
              "        [ 22.,  37.],\n",
              "        [103., 119.],\n",
              "        [ 57.,  69.],\n",
              "        [ 80., 102.],\n",
              "        [118., 132.],\n",
              "        [ 21.,  38.],\n",
              "        [104., 118.],\n",
              "        [ 57.,  69.],\n",
              "        [ 82., 100.],\n",
              "        [118., 134.],\n",
              "        [ 20.,  38.],\n",
              "        [102., 120.]])"
            ]
          },
          "execution_count": 87,
          "metadata": {},
          "output_type": "execute_result"
        }
      ],
      "source": [
        "# Compare with targets\n",
        "targets"
      ]
    },
    {
      "cell_type": "markdown",
      "metadata": {
        "id": "YxM73YdCnemg"
      },
      "source": [
        "Indeed, the predictions are quite close to our targets. We have a trained a reasonably good model to predict crop yields for apples and oranges by looking at the average temperature, rainfall, and humidity in a region. We can use it to make predictions of crop yields for new regions by passing a batch containing a single row of input."
      ]
    },
    {
      "cell_type": "code",
      "execution_count": 88,
      "metadata": {
        "id": "joj6nQABnemh",
        "outputId": "b0173cb9-580d-4b78-edfc-c46907ec7718"
      },
      "outputs": [
        {
          "data": {
            "text/plain": [
              "tensor([[53.4855, 68.3712]], grad_fn=<AddmmBackward0>)"
            ]
          },
          "execution_count": 88,
          "metadata": {},
          "output_type": "execute_result"
        }
      ],
      "source": [
        "model(torch.tensor([[75, 63, 44.]]))"
      ]
    },
    {
      "cell_type": "markdown",
      "metadata": {
        "id": "mbkAY_56nemh"
      },
      "source": [
        "The predicted yield of apples is 54.3 tons per hectare, and that of oranges is 68.3 tons per hectare."
      ]
    },
    {
      "cell_type": "markdown",
      "metadata": {
        "id": "owWDd496nemh"
      },
      "source": [
        "## Machine Learning vs. Classical Programming\n",
        "\n",
        "The approach we've taken in this tutorial is very different from programming as you might know it. Usually, we write programs that take some inputs, perform some operations, and return a result. \n",
        "\n",
        "However, in this notebook, we've defined a \"model\" that assumes a specific relationship between the inputs and the outputs, expressed using some unknown parameters (weights & biases). We then show the model some know inputs and outputs and _train_ the model to come up with good values for the unknown parameters. Once trained, the model can be used to compute the outputs for new inputs.\n",
        "\n",
        "This paradigm of programming is known as _machine learning_, where we use data to figure out the relationship between inputs and outputs. _Deep learning_ is a branch of machine learning that uses matrix operations, non-linear activation functions and gradient descent to build and train models. Andrej Karpathy, the director of AI at Tesla Motors, has written a great blog post on this topics, titled [Software 2.0](https://medium.com/@karpathy/software-2-0-a64152b37c35).\n",
        "\n",
        "This picture from book [Deep Learning with Python](https://www.manning.com/books/deep-learning-with-python) by Francois Chollet captures the difference between classical programming and machine learning:\n",
        "\n",
        "![](https://i.imgur.com/oJEQe7k.png)\n",
        "\n",
        "Keep this picture in mind as you work through the next few tutorials. \n",
        "\n"
      ]
    },
    {
      "cell_type": "markdown",
      "metadata": {
        "id": "7sxQRS0Bnemj"
      },
      "source": [
        "## Exercises and Further Reading\n",
        "\n",
        "We've covered the following topics in this tutorial:\n",
        "\n",
        "- Introduction to linear regression and gradient descent\n",
        "- Implementing a linear regression model using PyTorch tensors\n",
        "- Training a linear regression model using the gradient descent algorithm\n",
        "- Implementing gradient descent and linear regression using PyTorch built-in\n",
        "\n",
        "\n",
        "Here are some resources for learning more about linear regression and gradient descent:\n",
        "\n",
        "* An visual & animated explanation of gradient descent: https://www.youtube.com/watch?v=IHZwWFHWa-w\n",
        "\n",
        "* For a more detailed explanation of derivates and gradient descent, see [these notes from a Udacity course](https://storage.googleapis.com/supplemental_media/udacityu/315142919/Gradient%20Descent.pdf). \n",
        "\n",
        "* For an animated visualization of how linear regression works, [see this post](https://hackernoon.com/visualizing-linear-regression-with-pytorch-9261f49edb09).\n",
        "\n",
        "* For a more mathematical treatment of matrix calculus, linear regression and gradient descent, you should check out [Andrew Ng's excellent course notes](https://github.com/Cleo-Stanford-CS/CS229_Notes/blob/master/lectures/cs229-notes1.pdf) from CS229 at Stanford University.\n",
        "\n",
        "* To practice and test your skills, you can participate in the [Boston Housing Price Prediction](https://www.kaggle.com/c/boston-housing) competition on Kaggle, a website that hosts data science competitions.\n",
        "\n",
        "With this, we complete our discussion of linear regression in PyTorch, and we’re ready to move on to the next topic: [Working with Images & Logistic Regression](https://jovian.ai/aakashns/03-logistic-regression)."
      ]
    },
    {
      "cell_type": "markdown",
      "metadata": {
        "id": "DJdn5aV3nemj"
      },
      "source": [
        "## Questions for Review\n",
        "\n",
        "Try answering the following questions to test your understanding of the topics covered in this notebook:\n",
        "\n",
        "1. What is a linear regression model? Give an example of a problem formulated as a linear regression model.\n",
        "2. What are input and target variables in a dataset? Give an example.\n",
        "3. What are weights and biases in a linear regression model?\n",
        "4. How do you represent tabular data using PyTorch tensors?\n",
        "5. Why do we create separate matrices for inputs and targets while training a linear regression model?\n",
        "6. How do you determine the shape of the weights matrix & bias vector given some training data?\n",
        "7. How do you create randomly initialized weights & biases with a given shape?\n",
        "8. How is a linear regression model implemented using matrix operations? Explain with an example.\n",
        "9. How do you generate predictions using a linear regression model?\n",
        "10. Why are the predictions of a randomly initialized model different from the actual targets?\n",
        "11. What is a loss function? What does the term “loss” signify?\n",
        "12. What is mean squared error?\n",
        "13. Write a function to calculate mean squared using model predictions and actual targets.\n",
        "14. What happens when you invoke the `.backward` function on the result of the mean squared error loss function?\n",
        "15. Why is the derivative of the loss w.r.t. the weights matrix itself a matrix? What do its elements represent?\n",
        "16. How is the derivate of the loss w.r.t. a weight element useful for reducing the loss? Explain with an example.\n",
        "17. Suppose the derivative  of the loss w.r.t. a weight element is positive. Should you increase or decrease the element’s value slightly to get a lower loss?\n",
        "18. Suppose the derivative  of the loss w.r.t. a weight element is negative. Should you increase or decrease the element’s value slightly to get a lower loss?\n",
        "19. How do you update the weights and biases of a model using their respective gradients to reduce the loss slightly?\n",
        "20. What is the gradient descent optimization algorithm? Why is it called “gradient descent”?\n",
        "21. Why do you subtract a “small quantity” proportional to the gradient from the weights & biases, not the actual gradient itself?\n",
        "22. What is learning rate? Why is it important?\n",
        "23. What is `torch.no_grad`?\n",
        "24. Why do you reset gradients to zero after updating weights and biases?\n",
        "25. What are the steps involved in training a linear regression model using gradient descent?\n",
        "26. What is an epoch?\n",
        "27. What is the benefit of training a model for multiple epochs?\n",
        "28. How do you make predictions using a trained model?\n",
        "29. What should you do if your model’s loss doesn’t decrease while training? Hint: learning rate.\n",
        "30. What is `torch.nn`?\n",
        "31. What is the purpose of the `TensorDataset` class in PyTorch? Give an example.\n",
        "32. What is a data loader in PyTorch? Give an example.\n",
        "33. How do you use a data loader to retrieve batches of data?\n",
        "34. What are the benefits of shuffling the training data before creating batches?\n",
        "35. What is the benefit of training in small batches instead of training with the entire dataset?\n",
        "36. What is the purpose of the `nn.Linear` class in PyTorch? Give an example.\n",
        "37. How do you see the weights and biases of a `nn.Linear` model?\n",
        "38. What is the purpose of the `torch.nn.functional` module?\n",
        "39. How do you compute mean squared error loss using a PyTorch built-in function?\n",
        "40. What is an optimizer in PyTorch?\n",
        "41. What is `torch.optim.SGD`? What does SGD stand for?\n",
        "42. What are the inputs to a PyTorch optimizer? \n",
        "43. Give an example of creating an optimizer for training a linear regression model.\n",
        "44. Write a function to train a `nn.Linear` model in batches using gradient descent.\n",
        "45. How do you use a linear regression model to make predictions on previously unseen data?\n",
        "\n"
      ]
    }
  ],
  "metadata": {
    "colab": {
      "provenance": []
    },
    "kernelspec": {
      "display_name": "Python 3",
      "language": "python",
      "name": "python3"
    },
    "language_info": {
      "codemirror_mode": {
        "name": "ipython",
        "version": 3
      },
      "file_extension": ".py",
      "mimetype": "text/x-python",
      "name": "python",
      "nbconvert_exporter": "python",
      "pygments_lexer": "ipython3",
      "version": "3.10.6"
    },
    "vscode": {
      "interpreter": {
        "hash": "916dbcbb3f70747c44a77c7bcd40155683ae19c65e1c03b4aa3499c5328201f1"
      }
    }
  },
  "nbformat": 4,
  "nbformat_minor": 0
}
